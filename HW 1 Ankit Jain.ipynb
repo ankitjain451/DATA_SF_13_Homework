{
 "metadata": {
  "name": "",
  "signature": "sha256:7ac67c6651a6cb9b3ecca017cd062e27bfba2b397dbbcdbfcf1c13900b475ae7"
 },
 "nbformat": 3,
 "nbformat_minor": 0,
 "worksheets": [
  {
   "cells": [
    {
     "cell_type": "heading",
     "level": 1,
     "metadata": {},
     "source": [
      "Homework 1 Titanic Dataset"
     ]
    },
    {
     "cell_type": "code",
     "collapsed": false,
     "input": [
      "# Let's read the data file first\n",
      "import pandas as pd\n",
      "import numpy as np\n",
      "import matplotlib.pyplot as plt\n",
      "import os\n",
      "from __future__ import division\n",
      "\n",
      "# change the working directory\n",
      "os.chdir(\"/Users/ajain/Documents/Personal/GA/DAT_SF_13/homework\")"
     ],
     "language": "python",
     "metadata": {},
     "outputs": [],
     "prompt_number": 39
    },
    {
     "cell_type": "code",
     "collapsed": false,
     "input": [
      "#Let's read the file first\n",
      "data = pd.read_csv('titanic.csv')\n",
      "data.head()"
     ],
     "language": "python",
     "metadata": {},
     "outputs": [
      {
       "html": [
        "<div style=\"max-height:1000px;max-width:1500px;overflow:auto;\">\n",
        "<table border=\"1\" class=\"dataframe\">\n",
        "  <thead>\n",
        "    <tr style=\"text-align: right;\">\n",
        "      <th></th>\n",
        "      <th>PassengerId</th>\n",
        "      <th>Survived</th>\n",
        "      <th>Pclass</th>\n",
        "      <th>Name</th>\n",
        "      <th>Sex</th>\n",
        "      <th>Age</th>\n",
        "      <th>SibSp</th>\n",
        "      <th>Parch</th>\n",
        "      <th>Ticket</th>\n",
        "      <th>Fare</th>\n",
        "      <th>Cabin</th>\n",
        "      <th>Embarked</th>\n",
        "    </tr>\n",
        "  </thead>\n",
        "  <tbody>\n",
        "    <tr>\n",
        "      <th>0</th>\n",
        "      <td> 1</td>\n",
        "      <td> 0</td>\n",
        "      <td> 3</td>\n",
        "      <td>                           Braund, Mr. Owen Harris</td>\n",
        "      <td>   male</td>\n",
        "      <td> 22</td>\n",
        "      <td> 1</td>\n",
        "      <td> 0</td>\n",
        "      <td>        A/5 21171</td>\n",
        "      <td>  7.2500</td>\n",
        "      <td>  NaN</td>\n",
        "      <td> S</td>\n",
        "    </tr>\n",
        "    <tr>\n",
        "      <th>1</th>\n",
        "      <td> 2</td>\n",
        "      <td> 1</td>\n",
        "      <td> 1</td>\n",
        "      <td> Cumings, Mrs. John Bradley (Florence Briggs Th...</td>\n",
        "      <td> female</td>\n",
        "      <td> 38</td>\n",
        "      <td> 1</td>\n",
        "      <td> 0</td>\n",
        "      <td>         PC 17599</td>\n",
        "      <td> 71.2833</td>\n",
        "      <td>  C85</td>\n",
        "      <td> C</td>\n",
        "    </tr>\n",
        "    <tr>\n",
        "      <th>2</th>\n",
        "      <td> 3</td>\n",
        "      <td> 1</td>\n",
        "      <td> 3</td>\n",
        "      <td>                            Heikkinen, Miss. Laina</td>\n",
        "      <td> female</td>\n",
        "      <td> 26</td>\n",
        "      <td> 0</td>\n",
        "      <td> 0</td>\n",
        "      <td> STON/O2. 3101282</td>\n",
        "      <td>  7.9250</td>\n",
        "      <td>  NaN</td>\n",
        "      <td> S</td>\n",
        "    </tr>\n",
        "    <tr>\n",
        "      <th>3</th>\n",
        "      <td> 4</td>\n",
        "      <td> 1</td>\n",
        "      <td> 1</td>\n",
        "      <td>      Futrelle, Mrs. Jacques Heath (Lily May Peel)</td>\n",
        "      <td> female</td>\n",
        "      <td> 35</td>\n",
        "      <td> 1</td>\n",
        "      <td> 0</td>\n",
        "      <td>           113803</td>\n",
        "      <td> 53.1000</td>\n",
        "      <td> C123</td>\n",
        "      <td> S</td>\n",
        "    </tr>\n",
        "    <tr>\n",
        "      <th>4</th>\n",
        "      <td> 5</td>\n",
        "      <td> 0</td>\n",
        "      <td> 3</td>\n",
        "      <td>                          Allen, Mr. William Henry</td>\n",
        "      <td>   male</td>\n",
        "      <td> 35</td>\n",
        "      <td> 0</td>\n",
        "      <td> 0</td>\n",
        "      <td>           373450</td>\n",
        "      <td>  8.0500</td>\n",
        "      <td>  NaN</td>\n",
        "      <td> S</td>\n",
        "    </tr>\n",
        "  </tbody>\n",
        "</table>\n",
        "</div>"
       ],
       "metadata": {},
       "output_type": "pyout",
       "prompt_number": 40,
       "text": [
        "   PassengerId  Survived  Pclass  \\\n",
        "0            1         0       3   \n",
        "1            2         1       1   \n",
        "2            3         1       3   \n",
        "3            4         1       1   \n",
        "4            5         0       3   \n",
        "\n",
        "                                                Name     Sex  Age  SibSp  \\\n",
        "0                            Braund, Mr. Owen Harris    male   22      1   \n",
        "1  Cumings, Mrs. John Bradley (Florence Briggs Th...  female   38      1   \n",
        "2                             Heikkinen, Miss. Laina  female   26      0   \n",
        "3       Futrelle, Mrs. Jacques Heath (Lily May Peel)  female   35      1   \n",
        "4                           Allen, Mr. William Henry    male   35      0   \n",
        "\n",
        "   Parch            Ticket     Fare Cabin Embarked  \n",
        "0      0         A/5 21171   7.2500   NaN        S  \n",
        "1      0          PC 17599  71.2833   C85        C  \n",
        "2      0  STON/O2. 3101282   7.9250   NaN        S  \n",
        "3      0            113803  53.1000  C123        S  \n",
        "4      0            373450   8.0500   NaN        S  "
       ]
      }
     ],
     "prompt_number": 40
    },
    {
     "cell_type": "heading",
     "level": 2,
     "metadata": {},
     "source": [
      " QUESTION 1 "
     ]
    },
    {
     "cell_type": "code",
     "collapsed": false,
     "input": [
      "# No. of passengers is the number of rows in the dataset\n",
      "num_passengers = data.shape[0]\n",
      "print \"There are {} passengers in the dataset\".format(num_passengers)"
     ],
     "language": "python",
     "metadata": {},
     "outputs": [
      {
       "output_type": "stream",
       "stream": "stdout",
       "text": [
        "There are 891 passengers in the dataset\n"
       ]
      }
     ],
     "prompt_number": 14
    },
    {
     "cell_type": "heading",
     "level": 2,
     "metadata": {},
     "source": [
      "QUESTION 2"
     ]
    },
    {
     "cell_type": "code",
     "collapsed": false,
     "input": [
      "# Num passengers survived is equal to the sum of column Survived\n",
      "fraction_survived = ((data['Survived'].sum())/data.shape[0])*100\n",
      "print \" Percentage of survived passengers is {}\".format(fraction_survived) "
     ],
     "language": "python",
     "metadata": {},
     "outputs": [
      {
       "output_type": "stream",
       "stream": "stdout",
       "text": [
        " Percentage of survived passengers is 38.3838383838\n"
       ]
      }
     ],
     "prompt_number": 19
    },
    {
     "cell_type": "heading",
     "level": 2,
     "metadata": {},
     "source": [
      "QUESTION 3"
     ]
    },
    {
     "cell_type": "code",
     "collapsed": false,
     "input": [
      "num_males = data[data['Sex']=='male'].shape[0]\n",
      "print \"The number of males in the dataset are {}\".format(num_males)"
     ],
     "language": "python",
     "metadata": {},
     "outputs": [
      {
       "output_type": "stream",
       "stream": "stdout",
       "text": [
        "The number of males in the dataset are 577\n"
       ]
      }
     ],
     "prompt_number": 27
    },
    {
     "cell_type": "heading",
     "level": 2,
     "metadata": {},
     "source": [
      "QUESTION 4"
     ]
    },
    {
     "cell_type": "code",
     "collapsed": false,
     "input": [
      "num_females = data[data['Sex']=='female'].shape[0]\n",
      "print \"The number of females in the dataset are {}\".format(num_females)"
     ],
     "language": "python",
     "metadata": {},
     "outputs": [
      {
       "output_type": "stream",
       "stream": "stdout",
       "text": [
        "The number of females in the dataset are 314\n"
       ]
      }
     ],
     "prompt_number": 28
    },
    {
     "cell_type": "heading",
     "level": 2,
     "metadata": {},
     "source": [
      "QUESTION 5"
     ]
    },
    {
     "cell_type": "code",
     "collapsed": false,
     "input": [
      "percent_male_survived = (data[data['Sex']=='male']['Survived'].sum()/data[data['Sex']=='male'].shape[0])*100\n",
      "print \" Percentage of male survived passengers is {}\".format(percent_male_survived) "
     ],
     "language": "python",
     "metadata": {},
     "outputs": [
      {
       "output_type": "stream",
       "stream": "stdout",
       "text": [
        " Percentage of male survived passengers is 18.8908145581\n"
       ]
      }
     ],
     "prompt_number": 30
    },
    {
     "cell_type": "heading",
     "level": 2,
     "metadata": {},
     "source": [
      "QUESTION 6"
     ]
    },
    {
     "cell_type": "code",
     "collapsed": false,
     "input": [
      "percent_female_survived = (data[data['Sex']=='female']['Survived'].sum()/data[data['Sex']=='female'].shape[0])*100\n",
      "print \" Percentage of female survived passengers is {}\".format(percent_female_survived) "
     ],
     "language": "python",
     "metadata": {},
     "outputs": [
      {
       "output_type": "stream",
       "stream": "stdout",
       "text": [
        " Percentage of female survived passengers is 74.2038216561\n"
       ]
      }
     ],
     "prompt_number": 31
    },
    {
     "cell_type": "heading",
     "level": 2,
     "metadata": {},
     "source": [
      "QUESTION 7"
     ]
    },
    {
     "cell_type": "code",
     "collapsed": false,
     "input": [
      "mean_age = data['Age'].mean(skipna = True)\n",
      "print \"Mean age of passengers calculated after skipping the NA's is {}\".format(mean_age)"
     ],
     "language": "python",
     "metadata": {},
     "outputs": [
      {
       "output_type": "stream",
       "stream": "stdout",
       "text": [
        "Mean age of passengers calculated after skipping the NA's is 29.6991176471\n"
       ]
      }
     ],
     "prompt_number": 36
    },
    {
     "cell_type": "heading",
     "level": 5,
     "metadata": {},
     "source": [
      "We excluded the passengers with no age mentioned in the dataset.Other ways to deal with it is to impute them with the mean age.The function below can be used to impute."
     ]
    },
    {
     "cell_type": "code",
     "collapsed": false,
     "input": [
      "def calc_age_w_imputation(temp_data):\n",
      "    nan_ages = np.isnan(data.Age)\n",
      "    mean_age = data['Age'][~nan_ages].mean()\n",
      "    data['Age'][nan_ages] = mean_age\n",
      "    return(data)"
     ],
     "language": "python",
     "metadata": {},
     "outputs": [],
     "prompt_number": 38
    },
    {
     "cell_type": "heading",
     "level": 2,
     "metadata": {},
     "source": [
      "QUESTION 8"
     ]
    },
    {
     "cell_type": "code",
     "collapsed": false,
     "input": [
      "mean_age_survived = data[data['Survived']== 1]['Age'].mean(skipna = True)\n",
      "print \"Mean age of survived passengers calculated after skipping the NA's is {}\".format(mean_age_survived)"
     ],
     "language": "python",
     "metadata": {},
     "outputs": [
      {
       "output_type": "stream",
       "stream": "stdout",
       "text": [
        "Mean age of survived passengers calculated after skipping the NA's is 28.3436896552\n"
       ]
      }
     ],
     "prompt_number": 43
    },
    {
     "cell_type": "heading",
     "level": 2,
     "metadata": {},
     "source": [
      "QUESTION 9"
     ]
    },
    {
     "cell_type": "code",
     "collapsed": false,
     "input": [
      "mean_age_died = data[data['Survived']== 0]['Age'].mean(skipna = True)\n",
      "print \"Mean age of not survived passengers calculated after skipping the NA's is {}\".format(mean_age_died)"
     ],
     "language": "python",
     "metadata": {},
     "outputs": [
      {
       "output_type": "stream",
       "stream": "stdout",
       "text": [
        "Mean age of not survived passengers calculated after skipping the NA's is 30.6261792453\n"
       ]
      }
     ],
     "prompt_number": 44
    },
    {
     "cell_type": "heading",
     "level": 2,
     "metadata": {},
     "source": [
      "QUESTION 10"
     ]
    },
    {
     "cell_type": "markdown",
     "metadata": {},
     "source": [
      "Some inferences are as follows:\n",
      " - Women had higher survival chances than men\n",
      " - Average age of survived and not survived passsengers is not much different"
     ]
    },
    {
     "cell_type": "heading",
     "level": 2,
     "metadata": {},
     "source": [
      "QUESTION 11"
     ]
    },
    {
     "cell_type": "code",
     "collapsed": false,
     "input": [
      "num_pass_class = data.pivot_table('PassengerId', rows = 'Pclass' , aggfunc = 'count')\n",
      "print \" The table representing the class distribution is as follows\" \n",
      "d = pd.DataFrame(pd.Series(np.array(list(set(data['Pclass'])))), columns=['Pclass'])\n",
      "d['Num Passengers'] = list((num_pass_class))\n",
      "d"
     ],
     "language": "python",
     "metadata": {},
     "outputs": [
      {
       "output_type": "stream",
       "stream": "stdout",
       "text": [
        " The table representing the class distribution is as follows\n"
       ]
      },
      {
       "html": [
        "<div style=\"max-height:1000px;max-width:1500px;overflow:auto;\">\n",
        "<table border=\"1\" class=\"dataframe\">\n",
        "  <thead>\n",
        "    <tr style=\"text-align: right;\">\n",
        "      <th></th>\n",
        "      <th>Pclass</th>\n",
        "      <th>Num Passengers</th>\n",
        "    </tr>\n",
        "  </thead>\n",
        "  <tbody>\n",
        "    <tr>\n",
        "      <th>0</th>\n",
        "      <td> 1</td>\n",
        "      <td> 216</td>\n",
        "    </tr>\n",
        "    <tr>\n",
        "      <th>1</th>\n",
        "      <td> 2</td>\n",
        "      <td> 184</td>\n",
        "    </tr>\n",
        "    <tr>\n",
        "      <th>2</th>\n",
        "      <td> 3</td>\n",
        "      <td> 491</td>\n",
        "    </tr>\n",
        "  </tbody>\n",
        "</table>\n",
        "</div>"
       ],
       "metadata": {},
       "output_type": "pyout",
       "prompt_number": 73,
       "text": [
        "   Pclass  Num Passengers\n",
        "0       1             216\n",
        "1       2             184\n",
        "2       3             491"
       ]
      }
     ],
     "prompt_number": 73
    },
    {
     "cell_type": "heading",
     "level": 2,
     "metadata": {},
     "source": [
      "QUESTION 12"
     ]
    },
    {
     "cell_type": "code",
     "collapsed": false,
     "input": [
      "num_survived_class = data[data['Survived'] ==1].pivot_table('PassengerId', rows = 'Pclass' , aggfunc = 'count')\n",
      "percent_survived_class = [((s) / int(p))*100 for s,p in zip(num_survived_class, num_pass_class)]\n",
      "percent_survived_class = [ round(elem, 2) for elem in percent_survived_class ]\n",
      "d['Percent Survied'] = list((percent_survived_class))\n",
      "d\n"
     ],
     "language": "python",
     "metadata": {},
     "outputs": [
      {
       "html": [
        "<div style=\"max-height:1000px;max-width:1500px;overflow:auto;\">\n",
        "<table border=\"1\" class=\"dataframe\">\n",
        "  <thead>\n",
        "    <tr style=\"text-align: right;\">\n",
        "      <th></th>\n",
        "      <th>Pclass</th>\n",
        "      <th>Num Passengers</th>\n",
        "      <th>Percent Survied</th>\n",
        "    </tr>\n",
        "  </thead>\n",
        "  <tbody>\n",
        "    <tr>\n",
        "      <th>0</th>\n",
        "      <td> 1</td>\n",
        "      <td> 216</td>\n",
        "      <td> 62.96</td>\n",
        "    </tr>\n",
        "    <tr>\n",
        "      <th>1</th>\n",
        "      <td> 2</td>\n",
        "      <td> 184</td>\n",
        "      <td> 47.28</td>\n",
        "    </tr>\n",
        "    <tr>\n",
        "      <th>2</th>\n",
        "      <td> 3</td>\n",
        "      <td> 491</td>\n",
        "      <td> 24.24</td>\n",
        "    </tr>\n",
        "  </tbody>\n",
        "</table>\n",
        "</div>"
       ],
       "metadata": {},
       "output_type": "pyout",
       "prompt_number": 81,
       "text": [
        "   Pclass  Num Passengers  Percent Survied\n",
        "0       1             216            62.96\n",
        "1       2             184            47.28\n",
        "2       3             491            24.24"
       ]
      }
     ],
     "prompt_number": 81
    },
    {
     "cell_type": "heading",
     "level": 5,
     "metadata": {},
     "source": [
      "Class 1 had a higher survival percentage than all the other classes"
     ]
    },
    {
     "cell_type": "heading",
     "level": 2,
     "metadata": {},
     "source": [
      "QUESTION 14"
     ]
    },
    {
     "cell_type": "markdown",
     "metadata": {},
     "source": [
      "Include:\n",
      "    - Pclass\n",
      "    - Sex\n",
      "Exclude \n",
      "    - Age"
     ]
    }
   ],
   "metadata": {}
  }
 ]
}